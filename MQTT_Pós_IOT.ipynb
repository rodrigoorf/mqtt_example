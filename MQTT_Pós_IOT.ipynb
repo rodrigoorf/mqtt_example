{
  "nbformat": 4,
  "nbformat_minor": 0,
  "metadata": {
    "colab": {
      "name": "MQTT - Pós IOT",
      "provenance": [],
      "collapsed_sections": [],
      "authorship_tag": "ABX9TyNtsDcpTdxqwtH1JosJ2gx7",
      "include_colab_link": true
    },
    "kernelspec": {
      "name": "python3",
      "display_name": "Python 3"
    }
  },
  "cells": [
    {
      "cell_type": "markdown",
      "metadata": {
        "id": "view-in-github",
        "colab_type": "text"
      },
      "source": [
        "<a href=\"https://colab.research.google.com/github/rodrigoorf/mqtt_example/blob/master/MQTT_P%C3%B3s_IOT.ipynb\" target=\"_parent\"><img src=\"https://colab.research.google.com/assets/colab-badge.svg\" alt=\"Open In Colab\"/></a>"
      ]
    },
    {
      "cell_type": "code",
      "metadata": {
        "id": "pr-Te8XSXIiF",
        "colab_type": "code",
        "colab": {
          "base_uri": "https://localhost:8080/",
          "height": 187
        },
        "outputId": "d9400120-91e0-4016-88ce-c46b9c0c683c"
      },
      "source": [
        "# Etapa 1 - Instalar a biblioteca Eclipse Paho MQTT Python\n",
        "# Implementa as versões 3.1 e 3.1.1 do Protocolo MQTT\n",
        "\n",
        "!pip install paho-mqtt"
      ],
      "execution_count": 1,
      "outputs": [
        {
          "output_type": "stream",
          "text": [
            "Collecting paho-mqtt\n",
            "\u001b[?25l  Downloading https://files.pythonhosted.org/packages/59/11/1dd5c70f0f27a88a3a05772cd95f6087ac479fac66d9c7752ee5e16ddbbc/paho-mqtt-1.5.0.tar.gz (99kB)\n",
            "\r\u001b[K     |███▎                            | 10kB 12.1MB/s eta 0:00:01\r\u001b[K     |██████▋                         | 20kB 3.5MB/s eta 0:00:01\r\u001b[K     |█████████▉                      | 30kB 4.6MB/s eta 0:00:01\r\u001b[K     |█████████████▏                  | 40kB 4.9MB/s eta 0:00:01\r\u001b[K     |████████████████▌               | 51kB 3.9MB/s eta 0:00:01\r\u001b[K     |███████████████████▊            | 61kB 4.5MB/s eta 0:00:01\r\u001b[K     |███████████████████████         | 71kB 4.4MB/s eta 0:00:01\r\u001b[K     |██████████████████████████▍     | 81kB 5.0MB/s eta 0:00:01\r\u001b[K     |█████████████████████████████▋  | 92kB 5.3MB/s eta 0:00:01\r\u001b[K     |████████████████████████████████| 102kB 3.5MB/s \n",
            "\u001b[?25hBuilding wheels for collected packages: paho-mqtt\n",
            "  Building wheel for paho-mqtt (setup.py) ... \u001b[?25l\u001b[?25hdone\n",
            "  Created wheel for paho-mqtt: filename=paho_mqtt-1.5.0-cp36-none-any.whl size=61415 sha256=81f076b518f3fddcd7703ba52e120d6770b999b938fb24bd5cc71ec91e39d8f1\n",
            "  Stored in directory: /root/.cache/pip/wheels/02/94/6c/8474137cb7a5a3e001d70a22c8ff919caee69435376bccce79\n",
            "Successfully built paho-mqtt\n",
            "Installing collected packages: paho-mqtt\n",
            "Successfully installed paho-mqtt-1.5.0\n"
          ],
          "name": "stdout"
        }
      ]
    },
    {
      "cell_type": "code",
      "metadata": {
        "id": "f4MOxrvGX1D1",
        "colab_type": "code",
        "colab": {
          "base_uri": "https://localhost:8080/",
          "height": 521
        },
        "outputId": "99632940-fd2b-47fd-eca8-e87cd2f8742f"
      },
      "source": [
        "# Etapa 2 - Importar biblioteca do MQTT\n",
        "import paho.mqtt.client as mqtt\n",
        "import time\n",
        "\n",
        "# Etapa 3 - Definir funções de Callback\n",
        "# ---------------------------------------------------\n",
        "# Função de Callback\n",
        "# ---------------------------------------------------\n",
        "# Quando o cliente recebe uma mensagem CONACK do Broker em resposta a conexão\n",
        "# ele gera uma chamada de \"callback\" na função \"on_connect()\"\n",
        "\n",
        "def on_connect(client, userdata, flags, rc):\n",
        "  if rc == 0:\n",
        "    print(\"Conectado com Sucesso (OK)\")\n",
        "    print(\"Código de Retorno da Conexão (RC): \", rc)\n",
        "    print(\"Cliente: \", client)\n",
        "    print(\"User Data: \", userdata)\n",
        "  else:\n",
        "    print(\"Problema de Conexão - Returned Code (RC) = \", rc)\n",
        "\n",
        "# Descrições dos Códigos \"RC\"\n",
        "# 0 - Connection successful\n",
        "# 1 - Connection refused - incorrect protocol version\n",
        "# 2 - Connection refused - invalid client identifier\n",
        "# 3 - Connection refused - server unavailable\n",
        "# 4 - Connection refused - bad username or password\n",
        "# 5 - Connection refused - not authorized\n",
        "# 6-255 - Currently unused\n",
        "\n",
        "# ---------------------------------------------------\n",
        "# Função de Callback\n",
        "# ---------------------------------------------------\n",
        "# Função chamada quando o cliente se desconecta do broker\n",
        "\n",
        "def on_disconnect(client, userdata, rc):\n",
        "  print(\"Desconectado - Result Code (RC) = \", rc)\n",
        "\n",
        "# Criando broker e client\n",
        "#broker = \"broker.hivemq.com\"\n",
        "broker = \"broker.mqttdashboard.com\"\n",
        "client = mqtt.Client(client_id=\"espec_iot_pucpr_rfreire\")\n",
        "\n",
        "# Associação das Funções de Callback\n",
        "client.on_connect=on_connect\n",
        "client.on_disconnect=on_disconnect\n",
        "\n",
        "print(\"Conectando-se ao Broker: \", broker)\n",
        "client.connect(broker, port=1883, keepalive=60)\n",
        "\n",
        "client.loop_start()\n",
        "\n",
        "for i in range(2000):\n",
        "  print(\"Valor: \", i)\n",
        "  client.publish(\"espec_iot_pucpr/medida1/freire\", i)\n",
        "  time.sleep(1)\n",
        "\n",
        "client.loop_stop()\n",
        "client.disconnect()\n",
        "\n",
        "# Para validar o funcionamento, é possível baixar um cliente MQTT para dispositivos Android/iOS\n",
        "# Basta adicionar o tópico, porta e URL do Broker que as mensagens que forem enviadas por aqui serão recebidas no app\n",
        "# Usei o MyMQTT para Android para fins de teste"
      ],
      "execution_count": 1,
      "outputs": [
        {
          "output_type": "stream",
          "text": [
            "Conectando-se ao Broker:  broker.mqttdashboard.com\n",
            "Valor:  0\n",
            "Conectado com Sucesso (OK)\n",
            "Código de Retorno da Conexão (RC):  0\n",
            "Cliente:  <paho.mqtt.client.Client object at 0x7f90600692e8>\n",
            "User Data:  None\n",
            "Valor:  1\n",
            "Valor:  2\n",
            "Valor:  3\n",
            "Valor:  4\n",
            "Valor:  5\n",
            "Valor:  6\n",
            "Valor:  7\n",
            "Valor:  8\n",
            "Valor:  9\n",
            "Valor:  10\n",
            "Valor:  11\n"
          ],
          "name": "stdout"
        },
        {
          "output_type": "error",
          "ename": "KeyboardInterrupt",
          "evalue": "ignored",
          "traceback": [
            "\u001b[0;31m---------------------------------------------------------------------------\u001b[0m",
            "\u001b[0;31mKeyboardInterrupt\u001b[0m                         Traceback (most recent call last)",
            "\u001b[0;32m<ipython-input-1-4de764229d0f>\u001b[0m in \u001b[0;36m<module>\u001b[0;34m()\u001b[0m\n\u001b[1;32m     53\u001b[0m   \u001b[0mprint\u001b[0m\u001b[0;34m(\u001b[0m\u001b[0;34m\"Valor: \"\u001b[0m\u001b[0;34m,\u001b[0m \u001b[0mi\u001b[0m\u001b[0;34m)\u001b[0m\u001b[0;34m\u001b[0m\u001b[0;34m\u001b[0m\u001b[0m\n\u001b[1;32m     54\u001b[0m   \u001b[0mclient\u001b[0m\u001b[0;34m.\u001b[0m\u001b[0mpublish\u001b[0m\u001b[0;34m(\u001b[0m\u001b[0;34m\"espec_iot_pucpr/medida1/freire\"\u001b[0m\u001b[0;34m,\u001b[0m \u001b[0mi\u001b[0m\u001b[0;34m)\u001b[0m\u001b[0;34m\u001b[0m\u001b[0;34m\u001b[0m\u001b[0m\n\u001b[0;32m---> 55\u001b[0;31m   \u001b[0mtime\u001b[0m\u001b[0;34m.\u001b[0m\u001b[0msleep\u001b[0m\u001b[0;34m(\u001b[0m\u001b[0;36m1\u001b[0m\u001b[0;34m)\u001b[0m\u001b[0;34m\u001b[0m\u001b[0;34m\u001b[0m\u001b[0m\n\u001b[0m\u001b[1;32m     56\u001b[0m \u001b[0;34m\u001b[0m\u001b[0m\n\u001b[1;32m     57\u001b[0m \u001b[0mclient\u001b[0m\u001b[0;34m.\u001b[0m\u001b[0mloop_stop\u001b[0m\u001b[0;34m(\u001b[0m\u001b[0;34m)\u001b[0m\u001b[0;34m\u001b[0m\u001b[0;34m\u001b[0m\u001b[0m\n",
            "\u001b[0;31mKeyboardInterrupt\u001b[0m: "
          ]
        }
      ]
    }
  ]
}